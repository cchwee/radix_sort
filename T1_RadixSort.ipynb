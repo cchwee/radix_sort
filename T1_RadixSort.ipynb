{
 "cells": [
  {
   "cell_type": "code",
   "execution_count": 2,
   "source": [
    "# Radix sort\r\n",
    "def num_rad_sort(nums, b):\r\n",
    "    return nums\r\n",
    "\r\n",
    "# Driver\r\n",
    "nums = [43, 101, 22, 27, 5, 50, 15]\r\n",
    "print(num_rad_sort(nums, 4))"
   ],
   "outputs": [
    {
     "output_type": "stream",
     "name": "stdout",
     "text": [
      "[43, 101, 22, 27, 5, 50, 15]\n"
     ]
    }
   ],
   "metadata": {}
  }
 ],
 "metadata": {
  "orig_nbformat": 4,
  "language_info": {
   "name": "python",
   "version": "3.8.10",
   "mimetype": "text/x-python",
   "codemirror_mode": {
    "name": "ipython",
    "version": 3
   },
   "pygments_lexer": "ipython3",
   "nbconvert_exporter": "python",
   "file_extension": ".py"
  },
  "kernelspec": {
   "name": "python3",
   "display_name": "Python 3.8.10 64-bit (windows store)"
  },
  "interpreter": {
   "hash": "d063b60717332e91197e2eb55aef2cd19d45489547141a5917fea6daf31c4133"
  }
 },
 "nbformat": 4,
 "nbformat_minor": 2
}